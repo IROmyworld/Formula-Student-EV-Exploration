{
 "cells": [
  {
   "cell_type": "markdown",
   "metadata": {},
   "source": [
    "# Formula Student EV"
   ]
  },
  {
   "cell_type": "code",
   "execution_count": 50,
   "metadata": {},
   "outputs": [],
   "source": [
    "import pandas as pd\n",
    "import matplotlib.pyplot as plt\n",
    "import ipywidgets as widgets\n",
    "from ipywidgets import HBox, VBox\n",
    "import numpy as np\n",
    "from IPython.display import display\n",
    "%matplotlib inline"
   ]
  },
  {
   "cell_type": "markdown",
   "metadata": {},
   "source": [
    "## Important takes from 2021 FS Rules\n",
    "- Battery can output a maximum of 80kW (107HP).\n",
    "- Regen is allowed\n",
    "- Overcurrent Protection is required. (Main Fuse)\n",
    "- A maximum 600V DC is allowed. And 630V DC when considering signal. \n",
    "- All components in the traction system must be rated for the maximum voltage.\n",
    "- HVIL is allowed. But HV and LV connections are not allowed on the same connector. \n",
    "- All HV components must be inside the roll structure, exception are hub motors. \n",
    "- All HV components must be protected from side or rear impacts. \n",
    "- HV and LV are allowed on the same PCB, isolation devices (opto-isolators) may be used and established component spacing is required. \n",
    "- Electrical tape and rubber like coating is not allowed on TS components. \n",
    "- TS components must be waterproof\n",
    "- External HV cabling must have a grounded shield .\n",
    "- External HV crimps must withstand 200N. \n",
    "- All electrical connections must have positive locking mechanisms.\n",
    "- Soldered connections are not allowed, except for SMD devices. \n",
    "- An event provided data logger must be used to log voltage and current. \n",
    "- 2 Tractive System Measuring Points must be placed next to the master switches. \n",
    "- Battery to Inverter connections must be external and removable without tools and above 350mm from the ground. \n",
    "- Inverter must have an active discharge circuit that will drain voltage in the system when a disconnect is detected or power is turned off. \n",
    "- Battery modules must not exceed 120V, not be over 1.6kWh and weigh less than 12kg. \n",
    "- Interchangeable batteries are allowed at the competitions. \n",
    "- DCDC Converters are allowed inside the battery box\n",
    "- Battery modules must be separated by isolating/fire retardant material. \n",
    "- The battery box cannot be part of the impact structure.\n",
    "- The battery box may be made out of any material, materials other than steel or aluminium they must be submitted in the SES. \n",
    "- The battery pack requires a pressure release valve. \n",
    "- Pouch cell tabs must not carry any mechanical load. \n",
    "- A removable temperature logging device must be used. \n",
    "- Sensing Pre-charge Circuit is required. \n",
    "- The BMS must measure:\n",
    "    - Cell voltages\n",
    "    - Current\n",
    "    - Temperature of warmest cells \n",
    "    - Temperature of at least 30% of the cells, equally distributed. \n",
    "- Cell temperature must be measured on the negative terminal of the cell. \n",
    "- **Battery modules must be disconnected without tools?**\n",
    "- An insulation fault detection device must be used. \n",
    "- Chargers must be presented at the technical inspection.\n",
    "- Team may build their own chargers. \n",
    "- Software Calibration and Charging are allowed after technical inspection. \n",
    "- The battery must be able to be disassembled at the technical inspection. \n",
    "- The car is submitted to a rain test. Comparable IP rating would be IP65.\n"
   ]
  },
  {
   "cell_type": "markdown",
   "metadata": {},
   "source": [
    "## Battery Specs\n",
    "- For rear only motors Regen is around 30% of consumed energy. Close to 40% for 4wd. \n",
    "- Most teams calculate from previous telemetry that consumption is 9kWh during endurance. \n",
    "- Accounting for Regen most teams use battery packs between 6kWh and 6.5kWh. \n",
    "- ~30% of teams use pouch based cells, this percentage is higher for European Teams. Most teams use cylindrical 18650 cells. \n",
    "- Inside cylindrical cells most teams use Sony VTC6 for availability and higher energy density. \n",
    "- I personally have used Samsung 30T 21700 cells and they have very low internal resistance. \n"
   ]
  },
  {
   "cell_type": "markdown",
   "metadata": {},
   "source": [
    "### Cell Data"
   ]
  },
  {
   "cell_type": "code",
   "execution_count": 97,
   "metadata": {},
   "outputs": [
    {
     "data": {
      "text/html": [
       "<div>\n",
       "<style scoped>\n",
       "    .dataframe tbody tr th:only-of-type {\n",
       "        vertical-align: middle;\n",
       "    }\n",
       "\n",
       "    .dataframe tbody tr th {\n",
       "        vertical-align: top;\n",
       "    }\n",
       "\n",
       "    .dataframe thead th {\n",
       "        text-align: right;\n",
       "    }\n",
       "</style>\n",
       "<table border=\"1\" class=\"dataframe\">\n",
       "  <thead>\n",
       "    <tr style=\"text-align: right;\">\n",
       "      <th></th>\n",
       "      <th>Sony VTC6 18650</th>\n",
       "      <th>Samsung 30T 21700</th>\n",
       "    </tr>\n",
       "  </thead>\n",
       "  <tbody>\n",
       "    <tr>\n",
       "      <th>Rated Capacity (mAh)</th>\n",
       "      <td>3000</td>\n",
       "      <td>3000</td>\n",
       "    </tr>\n",
       "    <tr>\n",
       "      <th>Max Voltage (V)</th>\n",
       "      <td>4.2</td>\n",
       "      <td>4.2</td>\n",
       "    </tr>\n",
       "    <tr>\n",
       "      <th>Nominal Voltage (V)</th>\n",
       "      <td>3.6</td>\n",
       "      <td>3.6</td>\n",
       "    </tr>\n",
       "    <tr>\n",
       "      <th>Internal Resistance (mOhm)</th>\n",
       "      <td>21.4</td>\n",
       "      <td>11.6</td>\n",
       "    </tr>\n",
       "    <tr>\n",
       "      <th>Weight (g)</th>\n",
       "      <td>46.9</td>\n",
       "      <td>68.1</td>\n",
       "    </tr>\n",
       "    <tr>\n",
       "      <th>Continous Discharge (A)</th>\n",
       "      <td>15</td>\n",
       "      <td>35</td>\n",
       "    </tr>\n",
       "  </tbody>\n",
       "</table>\n",
       "</div>"
      ],
      "text/plain": [
       "                           Sony VTC6 18650 Samsung 30T 21700\n",
       "Rated Capacity (mAh)                  3000              3000\n",
       "Max Voltage (V)                        4.2               4.2\n",
       "Nominal Voltage (V)                    3.6               3.6\n",
       "Internal Resistance (mOhm)            21.4              11.6\n",
       "Weight (g)                            46.9              68.1\n",
       "Continous Discharge (A)                 15                35"
      ]
     },
     "execution_count": 97,
     "metadata": {},
     "output_type": "execute_result"
    }
   ],
   "source": [
    "# Cell data indexed as \n",
    "dataind = {\"CN\":\"Cell Model\",\"RC\":\"Rated Capacity (mAh)\",\"MV\":\"Max Voltage (V)\",\"NV\":\"Nominal Voltage (V)\",\n",
    "           \"IR\":\"Internal Resistance (mOhm)\",\"CD\":\"Continous Discharge (A)\", \"W\":\"Weight (g)\"}\n",
    "\n",
    "cells = [{\"CN\":\"Sony VTC6 18650\", \"RC\":3000, \"MV\":4.2, \"NV\":3.6, \"IR\":21.4,\"W\":46.9,\"CD\":15},\n",
    "          {\"CN\":\"Samsung 30T 21700\", \"RC\":3000, \"MV\":4.2, \"NV\":3.6, \"IR\":11.6,\"W\":68.1,\"CD\":35}]\n",
    "\n",
    "cellFrame = pd.DataFrame.from_records(cells).transpose().rename(index = dataind)\n",
    "cellFrame.rename(columns= cellFrame.iloc[0]).drop(cellFrame.index[0])\n",
    "\n"
   ]
  },
  {
   "cell_type": "markdown",
   "metadata": {},
   "source": [
    "### Calculated Cell Data"
   ]
  },
  {
   "cell_type": "code",
   "execution_count": 111,
   "metadata": {},
   "outputs": [
    {
     "data": {
      "application/vnd.jupyter.widget-view+json": {
       "model_id": "b93b71dc871c4521a7c07204b3f17c87",
       "version_major": 2,
       "version_minor": 0
      },
      "text/plain": [
       "interactive(children=(IntSlider(value=142, description='Series', max=150, min=100), IntSlider(value=4, descrip…"
      ]
     },
     "metadata": {},
     "output_type": "display_data"
    }
   ],
   "source": [
    "@widgets.interact(NS=widgets.IntSlider(min=100, max=150, step=1, value=142, description=\"Series\"),NP=widgets.IntSlider(min=1, max=6, step=1, value=4, description=\"Parallels\"))\n",
    "def f(NS,NP):\n",
    "    tempval = pd.DataFrame(index=list(cellFrame),columns=['Total Number of cells','Nominal Capacity (kWh)','Max Pack Voltage(V)','Nominal Pack Voltage(V)',\n",
    "                                                          'Series Current for 80kW @ Vnom (A)','Max Continous Power @ Vnom (kW)','Weight of the pack (kg)'])\n",
    "    for i in range(len(cellFrame.columns)):\n",
    "        NPV = cellFrame.loc[dataind['NV']][i]*NS # Nominal Pack Voltage (V)\n",
    "        MPV = cellFrame.loc[dataind['MV']][i]*NS # Max Pack Voltage (V)\n",
    "        NPC = cellFrame.loc[dataind['RC']][i]*NP*NPV/10**6 # Nominal Pack Capacity (kWh)\n",
    "        C80kW = 80000/NPV/NP # Series Current for 80kW @ Nominal Voltage (A)\n",
    "        MCP = cellFrame.loc[dataind['CD']][i]*NPV*NP/1000 # Max Continous Power @ Vnom (kW)\n",
    "        PW = cellFrame.loc[dataind['W']][i]*NS*NP/1000 # Pack Weight (kg)\n",
    "        tempval.iloc[i] = [NS*NP,NPC,MPV,NPV,C80kW,MCP,PW]\n",
    "        \n",
    "    return tempval.transpose()"
   ]
  }
 ],
 "metadata": {
  "kernelspec": {
   "display_name": "Python 3",
   "language": "python",
   "name": "python3"
  },
  "language_info": {
   "codemirror_mode": {
    "name": "ipython",
    "version": 3
   },
   "file_extension": ".py",
   "mimetype": "text/x-python",
   "name": "python",
   "nbconvert_exporter": "python",
   "pygments_lexer": "ipython3",
   "version": "3.7.0b4"
  },
  "widgets": {
   "application/vnd.jupyter.widget-state+json": {
    "state": {},
    "version_major": 2,
    "version_minor": 0
   }
  }
 },
 "nbformat": 4,
 "nbformat_minor": 2
}
